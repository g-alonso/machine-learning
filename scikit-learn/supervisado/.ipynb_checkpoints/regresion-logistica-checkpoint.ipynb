{
 "cells": [
  {
   "cell_type": "code",
   "execution_count": 2,
   "metadata": {},
   "outputs": [
    {
     "name": "stdout",
     "output_type": "stream",
     "text": [
      "Datos de test / resultado:\n",
      "    promedio_estudios  calificacion_examen_trabajo  experiencia_trabajo\n",
      "22                  4                            2                    5\n",
      "20                  6                            8                    3\n",
      "25                  6                            3                    6\n",
      "4                   5                            4                    4\n",
      "10                  8                            2                    2\n",
      "15                  5                            8                    3\n",
      "28                  7                            6                    8\n",
      "11                  4                            3                    6\n",
      "18                  4                            6                    8\n",
      "29                  7                            9                    9\n",
      "\n",
      "resultado ->  [0 1 0 0 0 1 1 0 1 1]\n",
      "\n",
      "Datos de nuevos aspirantes / resultado:\n",
      "   promedio_estudios  calificacion_examen_trabajo  experiencia_trabajo\n",
      "0                  3                            6                    3\n",
      "1                  4                            7                    4\n",
      "2                  4                            6                    6\n",
      "3                  5                            3                    1\n",
      "4                  9                            2                    1\n",
      "\n",
      "resultado ---> [0 1 1 0 0]\n"
     ]
    }
   ],
   "source": [
    "import pandas as pd\n",
    "from sklearn.model_selection import train_test_split\n",
    "from sklearn.linear_model import LogisticRegression\n",
    "from sklearn import metrics\n",
    "import seaborn as sn\n",
    "import matplotlib.pyplot as plt\n",
    "\n",
    "# Cargamos los datos del CSV aspirantes.csv...\n",
    "aspirantes = pd.read_csv (r'aspirantes.csv')\n",
    "df = pd.DataFrame(aspirantes,columns= ['promedio_estudios', 'calificacion_examen_trabajo','experiencia_trabajo','admitido'])\n",
    "\n",
    "X = df[['promedio_estudios', 'calificacion_examen_trabajo','experiencia_trabajo']]\n",
    "y = df['admitido']\n",
    "\n",
    "# separa datos de entrenamiento...\n",
    "X_train,X_test,y_train,y_test = train_test_split(X,y,test_size=0.25,random_state=0)\n",
    "\n",
    "# Instanciamos el modelo seleccionado... \n",
    "logistic_regression= LogisticRegression()\n",
    "logistic_regression.fit(X_train,y_train)\n",
    "\n",
    "# Chequeamos con los datos de test...\n",
    "y_pred=logistic_regression.predict(X_test)\n",
    "print (\"Datos de test / resultado:\")\n",
    "print (X_test) \n",
    "print(\"\")\n",
    "print (\"resultado -> \", y_pred) \n",
    "\n",
    "# Declaramos otros aspirantes con diferentes valores para probar con nuevos datos...\n",
    "nuevos_aspirantes = {'promedio_estudios': [3,4,4,5,9],\n",
    "                  'calificacion_examen_trabajo': [6,7,6,3,2],\n",
    "                  'experiencia_trabajo': [3,4,6,1,1]\n",
    "                  }\n",
    "df2 = pd.DataFrame(nuevos_aspirantes,columns= ['promedio_estudios', 'calificacion_examen_trabajo','experiencia_trabajo'])\n",
    "\n",
    "# Chequeamos con los datos de los nuevos aspirantes...\n",
    "y_pred=logistic_regression.predict(df2)\n",
    "\n",
    "# Resultado de la predicción...\n",
    "print(\"\")\n",
    "print (\"Datos de nuevos aspirantes / resultado:\")\n",
    "print (df2)\n",
    "print(\"\")\n",
    "print (\"resultado --->\", y_pred)\n"
   ]
  }
 ],
 "metadata": {
  "kernelspec": {
   "display_name": "Python 3",
   "language": "python",
   "name": "python3"
  },
  "language_info": {
   "codemirror_mode": {
    "name": "ipython",
    "version": 3
   },
   "file_extension": ".py",
   "mimetype": "text/x-python",
   "name": "python",
   "nbconvert_exporter": "python",
   "pygments_lexer": "ipython3",
   "version": "3.8.3"
  }
 },
 "nbformat": 4,
 "nbformat_minor": 4
}
